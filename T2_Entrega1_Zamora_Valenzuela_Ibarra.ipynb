{
  "cells": [
    {
      "cell_type": "markdown",
      "metadata": {
        "cell_id": "98ec3b176888475391133959de298cc2",
        "deepnote_cell_type": "markdown",
        "id": "bHyUAMr1YiVU"
      },
      "source": [
        "### MA3402 Estadística\n",
        "## Tarea 2, Entrega 1: Intervalos de confianza.\n",
        "\n",
        "**Profesor:** Joaquín Fontbona T.\n",
        "\n",
        "**Auxiliares:** Claudio López, Catalina Lizana G. & Fabián A. Ulloa\n",
        "\n",
        "**Estudiantes:** Benjamín Ibarra Alemany, Antonia Valenzuela Castro, Bianca Zamora Araya.\n"
      ]
    },
    {
      "cell_type": "code",
      "metadata": {
        "source_hash": null,
        "execution_start": 1696120821204,
        "execution_millis": 631,
        "deepnote_to_be_reexecuted": false,
        "cell_id": "8a81ce653aa24f13b8876a980600ed16",
        "deepnote_cell_type": "code",
        "id": "xvIiNhYMYiVb",
        "colab": {
          "base_uri": "https://localhost:8080/"
        },
        "outputId": "b94d626b-f0df-47e7-cd18-5148ab5f8372"
      },
      "source": [
        "# Librerías necesarias\n",
        "if(!require(Hmisc)){\n",
        "    install.packages(\"Hmisc\")\n",
        "}\n",
        "\n",
        "if(!require(ggplot2)){\n",
        "    install.packages(\"ggplot2\")\n",
        "}\n",
        "\n",
        "if(!require(latex2exp)){\n",
        "    install.packages(\"latex2exp\")\n",
        "}\n",
        "\n",
        "library(Hmisc)\n",
        "library(ggplot2)\n",
        "library(latex2exp)"
      ],
      "execution_count": null,
      "outputs": [
        {
          "output_type": "stream",
          "name": "stderr",
          "text": [
            "Loading required package: Hmisc\n",
            "\n",
            "Warning message in library(package, lib.loc = lib.loc, character.only = TRUE, logical.return = TRUE, :\n",
            "“there is no package called ‘Hmisc’”\n",
            "Installing package into ‘/usr/local/lib/R/site-library’\n",
            "(as ‘lib’ is unspecified)\n",
            "\n",
            "also installing the dependencies ‘checkmate’, ‘gridExtra’, ‘htmlTable’, ‘viridis’, ‘Formula’\n",
            "\n",
            "\n",
            "Loading required package: ggplot2\n",
            "\n",
            "Loading required package: latex2exp\n",
            "\n",
            "Warning message in library(package, lib.loc = lib.loc, character.only = TRUE, logical.return = TRUE, :\n",
            "“there is no package called ‘latex2exp’”\n",
            "Installing package into ‘/usr/local/lib/R/site-library’\n",
            "(as ‘lib’ is unspecified)\n",
            "\n",
            "\n",
            "Attaching package: ‘Hmisc’\n",
            "\n",
            "\n",
            "The following objects are masked from ‘package:base’:\n",
            "\n",
            "    format.pval, units\n",
            "\n",
            "\n"
          ]
        }
      ]
    },
    {
      "cell_type": "markdown",
      "metadata": {
        "cell_id": "d6f23a653a5240dc8ecf7b0a2f5511c3",
        "deepnote_cell_type": "markdown",
        "id": "YYCPe3llYiVf"
      },
      "source": [
        "En esta tarea la idea es estimar la efectividad de vacunas contra el COVID-19 y además entregar sus respectivos intervalos de confianza. Para ello se tomarán datos reales de estudios realizados por laboratorios para las vacunas BNT162b2, ChAdOx1 y HBO2. En estos se consideran dos grupos de individuos, uno de control o placebo que es inyectado con solución salina sin anticuerpos, mientras que el otro grupo de vacunados recibe la vacuna a comercializar.\n",
        "\n",
        "Los dos grupos se reparten de manera equitativa y el estudio es realizado en modalidad doble ciego, es decir, ni los individuos de experimento ni los agentes clínicos saben si se inyecta placebo o anticuerpos, por lo que se supone que los resultados finales son independientes del experimento en sí mismo.\n",
        "\n",
        "*Nota: En lo que sigue se harán ciertas simplificaciones y se considerará, por ejemplo, que la vacuna tiene la misma efectividad contra todas las cepas de la enfermedad y que al mencionar contagios no se hará distinción entre sintomáticos y asintomáticos.*"
      ]
    },
    {
      "cell_type": "markdown",
      "metadata": {
        "cell_id": "b0d9619f1b6e4a7da99650237e778d3b",
        "deepnote_cell_type": "markdown",
        "id": "qDBphjQpYiVg"
      },
      "source": [
        "### 1. Modelo\n",
        "\n",
        "Denotemos a $T_0$ y $T_1$ la cantidad de individuos en el grupo placebo y de vacunados, respectivamente y $c_0$ y $c_1$ la cantidad de casos confirmados positivos de COVID-19 en el grupo placebo y de vacunados, respectivamente. Se define también por $c = c_0 + c_1$ la cantidad de contagiados totales después del estudio. Entonces suponemos que $c_1 \\sim \\text{Bin}(c, \\pi)$, donde $\\pi \\in (0,1)$ es un parámetro desconocido.\n",
        "\n",
        "Se define la proporción de tasa de incidencia o riesgo relativo como\n",
        "\n",
        "$$ IRR = \\frac{\\pi}{r(1-\\pi)} $$\n",
        "\n",
        "Donde $r = T_1/T_0$ es el ratio de grupos de estudio. Y la efectividad de la vacuna se calcula como $VE = 1 - IRR$. Puede utilizar, sin demostrar, que si $(L_\\pi, U_\\pi)$ es un intervalo de confianza $(1-\\alpha)\\%$ para $\\pi$ entonces el intervalo de confianza $(1-\\alpha)\\%$ para VE es\n",
        "\n",
        "$$ \\left ( 1- \\frac{U_\\pi}{r(1-U_\\pi)}, \\, 1- \\frac{L_\\pi}{r(1-L_\\pi)} \\right )$$"
      ]
    },
    {
      "cell_type": "markdown",
      "metadata": {
        "cell_id": "27b6520e09ef468f8063b5f52b9c1401",
        "deepnote_cell_type": "markdown",
        "id": "U3tMpaj8YiVg"
      },
      "source": [
        "**1.1 Sea $g(p) =1- \\frac{p}{r(1-p)}$. Sean $X_1, ..., X_n$ i.i.d. Bernoulli de parámetro $p \\in (0,1)$. Sabemos que $\\overline X_n = \\frac{1}{n} \\sum_{i=1}^n X_i$ es el MLE de $p$. Utilice el siguiente código que genera 10000 muestras Binomial de tamaño $n=1000$ y parámetro $p=0.4$ y genera un histograma de $\\sqrt{n}(g(\\overline X_n)-g(p))$. En base a este gráfico, solo responda**\n",
        "\n",
        "* ¿A qué ley parece conveger $\\sqrt{n}(g(\\overline X_n)-g(p))$ cuando $n \\to \\infty$? Para visualizar mejor la distribución límite, además de apoyarse en el gráfico, calcule la media y varianza empíricas.\n",
        "* ¿A qué teoremas del curso se puede deber esto?\n",
        "\n",
        "*Indicación: Para ver numéricamente la varianza puede utilizar la función de R que calcula la varianza muestral, sea sesgada o insesgada, y aplicarla a g_samples. Le puede ser de utilidad que la información de Fisher para una muestra única de una Bernoulli es $I(p) = 1/(p(1-p))$.*"
      ]
    },
    {
      "cell_type": "code",
      "metadata": {
        "source_hash": null,
        "execution_start": 1696120821845,
        "execution_millis": 21,
        "deepnote_to_be_reexecuted": false,
        "cell_id": "887509244f8f429db73d64b72e2a54e5",
        "deepnote_cell_type": "code",
        "id": "C-79mAOcYiVh"
      },
      "source": [
        "# Función que dado un DataFrame df y una columna col de este\n",
        "# Hace un histograma de dicha columna.\n",
        "# Está pensado para hacer el histograma de sqrt(n)(g(X_n) - g(p))\n",
        "plot.hist.p1 <- function(df, col) {\n",
        "    ggplot(df, aes(x=col)) +\n",
        "    geom_histogram(aes(y=after_stat(density)) ,bins = 40) +\n",
        "    geom_vline(aes(xintercept=mean(g_samples)),\n",
        "            color=\"blue\", linetype=\"dashed\") +\n",
        "    geom_density(alpha=.2, fill=\"#FF6666\") +\n",
        "    labs(title=TeX(\"Muestras normalizadas al aplicar $g$\"),x=TeX(\"$sqrt(n)(g(X_n) - g(p))$\"), y = \"Densidad\") +\n",
        "    theme(plot.title = element_text(hjust = 0.5))\n",
        "}"
      ],
      "execution_count": null,
      "outputs": []
    },
    {
      "cell_type": "code",
      "metadata": {
        "source_hash": null,
        "execution_start": 1696120821858,
        "execution_millis": 29,
        "deepnote_to_be_reexecuted": false,
        "cell_id": "6bd94b10a0b7491aab799c3d2809e13f",
        "deepnote_cell_type": "code",
        "id": "tfrW0u3tYiVi"
      },
      "source": [
        "# Función g, que puede ser de utilidad para los cálculos posteriores\n",
        "g <- function(p) {\n",
        "    1 - p/(r*(1-p))\n",
        "}\n",
        "\n",
        "r <- 1 # Factor r\n",
        "\n",
        "n_samples <- 10000 # Cantidad de muestras\n",
        "size <- 1000 # Tamaño de las binomiales\n",
        "prob <- 0.4 # Valor p real\n",
        "\n",
        "# Muestras de binomiales\n",
        "samples <- rbinom(n=n_samples, size=size, prob=prob)\n",
        "\n",
        "# Muestras de binomiales reajustadas a su tamaño\n",
        "resize_samples <- samples/size\n",
        "# Objeto a estudiar su ley\n",
        "g_samples <- sqrt(size)*(g(resize_samples) - g(prob))\n",
        "\n",
        "# DataFrame con los resultados numéricos\n",
        "df <- data.frame(g_samples)"
      ],
      "execution_count": null,
      "outputs": []
    },
    {
      "cell_type": "code",
      "metadata": {
        "source_hash": null,
        "execution_start": 1696120821928,
        "execution_millis": 629,
        "deepnote_to_be_reexecuted": false,
        "cell_id": "f3dd7d83d98e4bef80ee5beea45ed86c",
        "deepnote_cell_type": "code",
        "id": "FOudD4y3YiVi",
        "outputId": "5ebe0c5f-595d-4f38-8d09-372844a868b8",
        "colab": {
          "base_uri": "https://localhost:8080/",
          "height": 437
        }
      },
      "source": [
        "plot.hist.p1(df, g_samples)"
      ],
      "execution_count": null,
      "outputs": [
        {
          "output_type": "display_data",
          "data": {
            "text/plain": [
              "plot without title"
            ],
            "image/png": "[encoded data removed]"
          },
          "metadata": {
            "image/png": {
              "width": 420,
              "height": 420
            }
          }
        }
      ]
    },
    {
      "cell_type": "markdown",
      "source": [
        "**Respuestas:**\n",
        "Ya que el histograma es una representación de la distribución de probabilidad de una variable aleatoria, como en este caso el gráfico asemeja al de una normal, entonces cuando $n \\to \\infty$ la ley de $T := \\sqrt{n}\\left(g\\left(\\bar{X}_{n}\\right)-g(p)\\right)$ es como una normal.\n",
        "\n",
        "En particular, por el gráfico, pareciera que es simétrica con respecto a un valor a la izquierda de cero, por lo que esa sería su esperanza; además, la desviación estándar, por como se acumula la densidad, pareciera estar a la izquierda de 1,5 por el desplazamiento de la gráfica. Esto se puede comprobar usando las funciones que calculan esperanza y varianza empíricos de una muestra, siendo aprox. -0,0016 y 1,8815 respectivamente (va a variar en cada simulación; ver celda de código más abajo).\n",
        "\n",
        "El resultado anterior se debe a la teoría de estimadores de máxima verosimilitud que son asintóticamente normales y sirven como pivote para construir intervalos de confianza.\n",
        "\n",
        "Por otro lado, como en realidad queremos ver la convergencia bajo una función $g$, esto es, $ \\sqrt{n}(g(\\overline{X}_{n})-g(p)) \\overset{\\textrm{Ley}}{⟶} \\mathcal{N}(0,\\mathbb{V}(X_{1})\\cdot (g'(p))^{2}) $, no podemos concluir directamente por TCL, para lo cual se utiliza el _Delta method_:\n",
        "\n",
        " En efecto, se define $g\\colon \\mathbb{R}\\to \\mathbb{R}$ como $u \\mapsto g(u)=1-\\dfrac{u}{r(1-u)}$. Vemos directamente que es de clase $\\mathcal{C}^{1}$ y que $g'(u)=- \\tfrac{1}{r(u-1)^{2}}$. Como la derivada nunca se anula, tenemos que $g'(p)\\neq 0$. Luego, la convergencia es\n",
        "\n",
        " \\begin{equation*}\n",
        "    \\sqrt{n}(g(\\overline{X}_{n})-g(p))\\underset{n\\to \\infty}{\\overset{\\textrm{Ley}}{⟶}} \\mathcal{N}\\left(0,\\tfrac{p}{r^{2}(1-p)^{3}}\\right),\n",
        " \\end{equation*}\n",
        "\n",
        " donde usamos que $\\mathbb{V}(X_{1})=p(1-p)$. Reemplazando los valores $p=0.4$ y $r=1$, obtenemos finalmente,\n",
        "\n",
        " \\begin{equation*}\n",
        "        \\sqrt{n}(g(\\overline{X}_{n})-g(p)) \\overset{\\textrm{Ley}}{⟶} \\mathcal{N}(0, 1.85).\n",
        " \\end{equation*}\n"
      ],
      "metadata": {
        "id": "LTfII64eadJr"
      }
    },
    {
      "cell_type": "code",
      "source": [
        "#Calculamos la varianza 'asintótica' empírica de T\n",
        "e_empirica_g_samples <- mean(g_samples)\n",
        "v_empirica_g_samples <- var(g_samples)\n",
        "#imprimir esperanza empírica\n",
        "sprintf('media empírica: %f', e_empirica_g_samples) #%f es para imprimir floats\n",
        "#imprimir varianza empírica\n",
        "sprintf('varianza empírica: %f', v_empirica_g_samples) #%f es para imprimir floats\n",
        "\n",
        "#Luego, para calcular la varianza asintótica teórica de T, primero determinamos la derivada de g,\n",
        "dg <- function(p) {\n",
        "    -1/(r*(1-p)**2)\n",
        "}\n",
        "\n",
        "I_inverso <- function(p) {(p*(1-p))\n",
        "}\n",
        "#Calculamos la inversa de la info de Fisher del estimador de máxima verosimilitud Xn barra, pues es asintóticamente normal\n",
        "#con ello eficiente, y alcanza su cota de Cramer Rao\n",
        "P<- I_inverso(prob)\n",
        "\n",
        "#Veamos que esto se cumple\n",
        "v_teorica <- P*(dg(prob)**2)\n",
        "sprintf('varianza asintótica teórica: %f', v_teorica) #%f es para imprimir floats"
      ],
      "metadata": {
        "colab": {
          "base_uri": "https://localhost:8080/",
          "height": 69
        },
        "id": "puBsGLtner_L",
        "outputId": "513fb3c2-cb82-4f10-d3e3-59f8edb0562f"
      },
      "execution_count": null,
      "outputs": [
        {
          "output_type": "display_data",
          "data": {
            "text/html": [
              "'media empírica: -0.066521'"
            ],
            "text/markdown": "'media empírica: -0.066521'",
            "text/latex": "'media empírica: -0.066521'",
            "text/plain": [
              "[1] \"media empírica: -0.066521\""
            ]
          },
          "metadata": {}
        },
        {
          "output_type": "display_data",
          "data": {
            "text/html": [
              "'varianza empírica: 1.830902'"
            ],
            "text/markdown": "'varianza empírica: 1.830902'",
            "text/latex": "'varianza empírica: 1.830902'",
            "text/plain": [
              "[1] \"varianza empírica: 1.830902\""
            ]
          },
          "metadata": {}
        },
        {
          "output_type": "display_data",
          "data": {
            "text/html": [
              "'varianza asintótica teórica: 1.851852'"
            ],
            "text/markdown": "'varianza asintótica teórica: 1.851852'",
            "text/latex": "'varianza asintótica teórica: 1.851852'",
            "text/plain": [
              "[1] \"varianza asintótica teórica: 1.851852\""
            ]
          },
          "metadata": {}
        }
      ]
    },
    {
      "cell_type": "markdown",
      "source": [
        "Vemos que el valor empírico de la varianza del estimador $T$ se acerca bastante al valor estimado teóricamente por el _Delta Method_. Por otro lado, sabemos que $\\overline{X}_{n}$ es estimador de máxima verosimilitud para $p\\in (0,1)$, y es, además, insesgado y eficiente. Con ello sabemos que varianza de las variables Bernoulli $\\mathbb{V}(X_{1})=p(1-p)$ y alcanzan la cota de Cramer Rao. Con ello, se puede calcular teóricamente la varianza del estimador $T$ usando la información de Fisher, tal como se hizo en el código."
      ],
      "metadata": {
        "id": "A99L8SHcUwRa"
      }
    },
    {
      "cell_type": "markdown",
      "metadata": {
        "cell_id": "6bd4b10bb31a4085bcccde197e7eccc1",
        "deepnote_cell_type": "markdown",
        "id": "N_i0V8HxYiVj"
      },
      "source": [
        "### 2. Intervalo de confianza con aproximación por TCL (asintótico)"
      ]
    },
    {
      "cell_type": "markdown",
      "metadata": {
        "cell_id": "9f3655285099499390b3109f6a8b6fba",
        "deepnote_cell_type": "markdown",
        "id": "4H8IFTnFYiVk"
      },
      "source": [
        "En lo que sigue se harán los cálculos para intervalos de confianza para distintos $1-\\alpha$ y distintos métodos para obtenerlo. Para ello utilizaremos los siguientes datos."
      ]
    },
    {
      "cell_type": "code",
      "metadata": {
        "source_hash": null,
        "execution_start": 1696120822365,
        "execution_millis": 135,
        "deepnote_to_be_reexecuted": false,
        "cell_id": "328c3db57e194f9792ae08aaa9694e25",
        "deepnote_cell_type": "code",
        "id": "kJalCXdiYiVk",
        "outputId": "41433cda-536a-49e7-9f0e-b42fc374c64e",
        "colab": {
          "base_uri": "https://localhost:8080/",
          "height": 192
        }
      },
      "source": [
        "vaccines <- c('BNT162b2', 'ChAdOx1', 'HBO2')\n",
        "nPlacebo <- c(17511, 2025, 12737)\n",
        "nVaccine <- c(17411, 2063, 12726)\n",
        "nPlaceboCases <- c(162, 33, 95)\n",
        "nVaccineCases <- c(8, 12, 21)\n",
        "\n",
        "#se agregan nombres a las columnas para identificar mejor la información según el contexto del enunciado\n",
        "VaccineData <- data.frame('T0'=nPlacebo, 'T1'=nVaccine, 'c0'=nPlaceboCases, 'c1'=nVaccineCases, row.names = vaccines)\n",
        "VaccineData$c <- VaccineData$c0 + VaccineData$c1 #se agrega columna con los nCases en total (c = c1+c2) i.e. total de infectados (placebo+vacunados)\n",
        "VaccineData$r <- VaccineData$T1 / VaccineData$T0 #se agrega columna con factor r=T1/T0\n",
        "\n",
        "VaccineData"
      ],
      "execution_count": null,
      "outputs": [
        {
          "output_type": "display_data",
          "data": {
            "text/html": [
              "<table class=\"dataframe\">\n",
              "<caption>A data.frame: 3 × 6</caption>\n",
              "<thead>\n",
              "\t<tr><th></th><th scope=col>T0</th><th scope=col>T1</th><th scope=col>c0</th><th scope=col>c1</th><th scope=col>c</th><th scope=col>r</th></tr>\n",
              "\t<tr><th></th><th scope=col>&lt;dbl&gt;</th><th scope=col>&lt;dbl&gt;</th><th scope=col>&lt;dbl&gt;</th><th scope=col>&lt;dbl&gt;</th><th scope=col>&lt;dbl&gt;</th><th scope=col>&lt;dbl&gt;</th></tr>\n",
              "</thead>\n",
              "<tbody>\n",
              "\t<tr><th scope=row>BNT162b2</th><td>17511</td><td>17411</td><td>162</td><td> 8</td><td>170</td><td>0.9942893</td></tr>\n",
              "\t<tr><th scope=row>ChAdOx1</th><td> 2025</td><td> 2063</td><td> 33</td><td>12</td><td> 45</td><td>1.0187654</td></tr>\n",
              "\t<tr><th scope=row>HBO2</th><td>12737</td><td>12726</td><td> 95</td><td>21</td><td>116</td><td>0.9991364</td></tr>\n",
              "</tbody>\n",
              "</table>\n"
            ],
            "text/markdown": "\nA data.frame: 3 × 6\n\n| <!--/--> | T0 &lt;dbl&gt; | T1 &lt;dbl&gt; | c0 &lt;dbl&gt; | c1 &lt;dbl&gt; | c &lt;dbl&gt; | r &lt;dbl&gt; |\n|---|---|---|---|---|---|---|\n| BNT162b2 | 17511 | 17411 | 162 |  8 | 170 | 0.9942893 |\n| ChAdOx1 |  2025 |  2063 |  33 | 12 |  45 | 1.0187654 |\n| HBO2 | 12737 | 12726 |  95 | 21 | 116 | 0.9991364 |\n\n",
            "text/latex": "A data.frame: 3 × 6\n\\begin{tabular}{r|llllll}\n  & T0 & T1 & c0 & c1 & c & r\\\\\n  & <dbl> & <dbl> & <dbl> & <dbl> & <dbl> & <dbl>\\\\\n\\hline\n\tBNT162b2 & 17511 & 17411 & 162 &  8 & 170 & 0.9942893\\\\\n\tChAdOx1 &  2025 &  2063 &  33 & 12 &  45 & 1.0187654\\\\\n\tHBO2 & 12737 & 12726 &  95 & 21 & 116 & 0.9991364\\\\\n\\end{tabular}\n",
            "text/plain": [
              "         T0    T1    c0  c1 c   r        \n",
              "BNT162b2 17511 17411 162  8 170 0.9942893\n",
              "ChAdOx1   2025  2063  33 12  45 1.0187654\n",
              "HBO2     12737 12726  95 21 116 0.9991364"
            ]
          },
          "metadata": {}
        }
      ]
    },
    {
      "cell_type": "markdown",
      "metadata": {
        "cell_id": "8341978ad0274d1182d5fad7aa01dc74",
        "deepnote_cell_type": "markdown",
        "id": "0-cHjyvrYiVl"
      },
      "source": [
        "**2.1 Usted sabe que el intervalo de confianza asintótico de nivel $(1-\\alpha)$% para el parámetro $\\pi$ de una $\\text{Bin}(c,\\pi)$ está dado por**\n",
        "\n",
        "$$\\left (  c_1 /c - z_{\\alpha/2} \\frac{\\sqrt{( c_1 / c)(1-( c_1 / c))}}{\\sqrt{c}},  c_1 /c + z_{\\alpha/2} \\frac{\\sqrt{( c_1 / c)(1-( c_1 / c))}}{\\sqrt{c}} \\right)$$\n",
        "\n",
        "**donde $c_1$ es la cantidad observada de infectados vacunados. Este intervalo está centrado en la estimación del parámetro $\\pi$ que viene dada por $c_1/c$.**\n",
        "\n",
        "**Calcule, numéricamente, los intervalos de confianza asintóticos $(1-\\alpha)$% para el parámetro $\\pi$ para las 3 vacunas para $\\alpha \\in \\{0.2, 0.1, 0.05, 0.01\\}$.**\n",
        "\n"
      ]
    },
    {
      "cell_type": "markdown",
      "source": [
        "Primero se va a generar la función que calcule los intervalos de confianza asintóticos de manera genérica."
      ],
      "metadata": {
        "id": "IxAcyHYviaSF"
      }
    },
    {
      "cell_type": "code",
      "metadata": {
        "source_hash": null,
        "execution_start": 1696120822366,
        "execution_millis": 27,
        "deepnote_to_be_reexecuted": false,
        "cell_id": "a0df919d34c54c9092c9cf37c8901869",
        "deepnote_cell_type": "code",
        "id": "9d09NfEDYiVm"
      },
      "source": [
        "#asymptotic_CI: float, float, float -> vector\n",
        "#dados 3 números (cantidad de vacunados, total infectados, riesgo), retorna intervalo de confianza (vector)\n",
        "asymptotic_CI <- function(c1, c, alpha) {\n",
        "    #la idea será reconstruir los límites inferior y sup\n",
        "    div <- c1/c #se define el cociente\n",
        "    z_alpha <- qnorm(1 - alpha / 2) #se guarda el cuartir normal\n",
        "    frac <- sqrt(div*(1-div))/sqrt(c) #se define el término fraccionario\n",
        "    lower_limit <- div - z_alpha*frac #se define límite inferior\n",
        "    upper_limit <- div + z_alpha*frac #se define límite superior\n",
        "    return(c(lower_limit, upper_limit)) #se retorna como vector\n",
        "}"
      ],
      "execution_count": null,
      "outputs": []
    },
    {
      "cell_type": "markdown",
      "source": [
        "Ahora se calculará para las 3 vacunas en todos los casos."
      ],
      "metadata": {
        "id": "U5alg7w8ihDj"
      }
    },
    {
      "cell_type": "code",
      "source": [
        "alphas <- c(0.2, 0.1, 0.05, 0.01) #arreglo para todos los valores de alpha que se quiere calcular\n",
        "\n",
        "#para guardar la información sobre el intervalo de confianza, se puede:\n",
        "\n",
        "#A) depositar directamente como un vector, para cada vacuna (fila)\n",
        "#(en este caso, luego para transformarlos, habrá que acceder no solo a la fila [i] si no que a la componente iesima [[i]])\n",
        "for (alpha in alphas) { #la idea es crear una nueva columna que almacene los valores iniciales y finales del intervalo de confianzapara cada vacuna\n",
        "  VaccineData[[paste0('IC_alpha_', alpha)]] <- lapply(1:nrow(VaccineData), function(i) { #se guarda en el data frame columna de nombre IC_alpha correspondiente\n",
        "    asymptotic_CI(VaccineData$c1[i], VaccineData$c[i], alpha) #se visita el data frame por filas y se aplica la función que calcula el IC\n",
        "  })\n",
        "}\n",
        "\n",
        "#B) guardar en columnas separadas el limite inferior y superior para cada vacuna (fila)\n",
        "#(en este caso, para transformarlos, basta acceder a la columna correspondiente)\n",
        "for (alpha in alphas) {\n",
        "  VaccineData[[paste0('IC_alpha_', alpha, '_Lower')]] <- sapply(1:nrow(VaccineData), function(i) {\n",
        "    asymptotic_CI(VaccineData$c1[i], VaccineData$c[i], alpha)[1]\n",
        "  })\n",
        "\n",
        "  VaccineData[[paste0('IC_alpha_', alpha, '_Upper')]] <- sapply(1:nrow(VaccineData), function(i) {\n",
        "    asymptotic_CI(VaccineData$c1[i], VaccineData$c[i], alpha)[2]\n",
        "  })\n",
        "}\n",
        "VaccineData"
      ],
      "metadata": {
        "colab": {
          "base_uri": "https://localhost:8080/",
          "height": 264
        },
        "id": "0hO3ZeeclWK_",
        "outputId": "c9b8a617-2230-4679-980d-d0e41b3bae9a"
      },
      "execution_count": null,
      "outputs": [
        {
          "output_type": "display_data",
          "data": {
            "text/html": [
              "<table class=\"dataframe\">\n",
              "<caption>A data.frame: 3 × 18</caption>\n",
              "<thead>\n",
              "\t<tr><th></th><th scope=col>T0</th><th scope=col>T1</th><th scope=col>c0</th><th scope=col>c1</th><th scope=col>c</th><th scope=col>r</th><th scope=col>IC_alpha_0.2</th><th scope=col>IC_alpha_0.1</th><th scope=col>IC_alpha_0.05</th><th scope=col>IC_alpha_0.01</th><th scope=col>IC_alpha_0.2_Lower</th><th scope=col>IC_alpha_0.2_Upper</th><th scope=col>IC_alpha_0.1_Lower</th><th scope=col>IC_alpha_0.1_Upper</th><th scope=col>IC_alpha_0.05_Lower</th><th scope=col>IC_alpha_0.05_Upper</th><th scope=col>IC_alpha_0.01_Lower</th><th scope=col>IC_alpha_0.01_Upper</th></tr>\n",
              "\t<tr><th></th><th scope=col>&lt;dbl&gt;</th><th scope=col>&lt;dbl&gt;</th><th scope=col>&lt;dbl&gt;</th><th scope=col>&lt;dbl&gt;</th><th scope=col>&lt;dbl&gt;</th><th scope=col>&lt;dbl&gt;</th><th scope=col>&lt;list&gt;</th><th scope=col>&lt;list&gt;</th><th scope=col>&lt;list&gt;</th><th scope=col>&lt;list&gt;</th><th scope=col>&lt;dbl&gt;</th><th scope=col>&lt;dbl&gt;</th><th scope=col>&lt;dbl&gt;</th><th scope=col>&lt;dbl&gt;</th><th scope=col>&lt;dbl&gt;</th><th scope=col>&lt;dbl&gt;</th><th scope=col>&lt;dbl&gt;</th><th scope=col>&lt;dbl&gt;</th></tr>\n",
              "</thead>\n",
              "<tbody>\n",
              "\t<tr><th scope=row>BNT162b2</th><td>17511</td><td>17411</td><td>162</td><td> 8</td><td>170</td><td>0.9942893</td><td>0.02624436, 0.06787329</td><td>0.02034375, 0.07377390</td><td>0.01522585, 0.07889180</td><td>0.005223205, 0.088894442</td><td>0.02624436</td><td>0.06787329</td><td>0.02034375</td><td>0.0737739</td><td>0.01522585</td><td>0.0788918</td><td>0.005223205</td><td>0.08889444</td></tr>\n",
              "\t<tr><th scope=row>ChAdOx1</th><td> 2025</td><td> 2063</td><td> 33</td><td>12</td><td> 45</td><td>1.0187654</td><td>0.1821845, 0.3511488</td><td>0.1582350, 0.3750983</td><td>0.1374624, 0.3958710</td><td>0.09686345, 0.43646988</td><td>0.18218453</td><td>0.35114881</td><td>0.15823501</td><td>0.3750983</td><td>0.13746238</td><td>0.3958710</td><td>0.096863454</td><td>0.43646988</td></tr>\n",
              "\t<tr><th scope=row>HBO2</th><td>12737</td><td>12726</td><td> 95</td><td>21</td><td>116</td><td>0.9991364</td><td>0.1352181, 0.2268508</td><td>0.1222298, 0.2398391</td><td>0.1109644, 0.2511046</td><td>0.0889468, 0.2731222</td><td>0.13521813</td><td>0.22685084</td><td>0.12222983</td><td>0.2398391</td><td>0.11096441</td><td>0.2511046</td><td>0.088946800</td><td>0.27312217</td></tr>\n",
              "</tbody>\n",
              "</table>\n"
            ],
            "text/markdown": "\nA data.frame: 3 × 18\n\n| <!--/--> | T0 &lt;dbl&gt; | T1 &lt;dbl&gt; | c0 &lt;dbl&gt; | c1 &lt;dbl&gt; | c &lt;dbl&gt; | r &lt;dbl&gt; | IC_alpha_0.2 &lt;list&gt; | IC_alpha_0.1 &lt;list&gt; | IC_alpha_0.05 &lt;list&gt; | IC_alpha_0.01 &lt;list&gt; | IC_alpha_0.2_Lower &lt;dbl&gt; | IC_alpha_0.2_Upper &lt;dbl&gt; | IC_alpha_0.1_Lower &lt;dbl&gt; | IC_alpha_0.1_Upper &lt;dbl&gt; | IC_alpha_0.05_Lower &lt;dbl&gt; | IC_alpha_0.05_Upper &lt;dbl&gt; | IC_alpha_0.01_Lower &lt;dbl&gt; | IC_alpha_0.01_Upper &lt;dbl&gt; |\n|---|---|---|---|---|---|---|---|---|---|---|---|---|---|---|---|---|---|---|\n| BNT162b2 | 17511 | 17411 | 162 |  8 | 170 | 0.9942893 | 0.02624436, 0.06787329 | 0.02034375, 0.07377390 | 0.01522585, 0.07889180 | 0.005223205, 0.088894442 | 0.02624436 | 0.06787329 | 0.02034375 | 0.0737739 | 0.01522585 | 0.0788918 | 0.005223205 | 0.08889444 |\n| ChAdOx1 |  2025 |  2063 |  33 | 12 |  45 | 1.0187654 | 0.1821845, 0.3511488 | 0.1582350, 0.3750983 | 0.1374624, 0.3958710 | 0.09686345, 0.43646988 | 0.18218453 | 0.35114881 | 0.15823501 | 0.3750983 | 0.13746238 | 0.3958710 | 0.096863454 | 0.43646988 |\n| HBO2 | 12737 | 12726 |  95 | 21 | 116 | 0.9991364 | 0.1352181, 0.2268508 | 0.1222298, 0.2398391 | 0.1109644, 0.2511046 | 0.0889468, 0.2731222 | 0.13521813 | 0.22685084 | 0.12222983 | 0.2398391 | 0.11096441 | 0.2511046 | 0.088946800 | 0.27312217 |\n\n",
            "text/latex": "A data.frame: 3 × 18\n\\begin{tabular}{r|llllllllllllllllll}\n  & T0 & T1 & c0 & c1 & c & r & IC\\_alpha\\_0.2 & IC\\_alpha\\_0.1 & IC\\_alpha\\_0.05 & IC\\_alpha\\_0.01 & IC\\_alpha\\_0.2\\_Lower & IC\\_alpha\\_0.2\\_Upper & IC\\_alpha\\_0.1\\_Lower & IC\\_alpha\\_0.1\\_Upper & IC\\_alpha\\_0.05\\_Lower & IC\\_alpha\\_0.05\\_Upper & IC\\_alpha\\_0.01\\_Lower & IC\\_alpha\\_0.01\\_Upper\\\\\n  & <dbl> & <dbl> & <dbl> & <dbl> & <dbl> & <dbl> & <list> & <list> & <list> & <list> & <dbl> & <dbl> & <dbl> & <dbl> & <dbl> & <dbl> & <dbl> & <dbl>\\\\\n\\hline\n\tBNT162b2 & 17511 & 17411 & 162 &  8 & 170 & 0.9942893 & 0.02624436, 0.06787329 & 0.02034375, 0.07377390 & 0.01522585, 0.07889180 & 0.005223205, 0.088894442 & 0.02624436 & 0.06787329 & 0.02034375 & 0.0737739 & 0.01522585 & 0.0788918 & 0.005223205 & 0.08889444\\\\\n\tChAdOx1 &  2025 &  2063 &  33 & 12 &  45 & 1.0187654 & 0.1821845, 0.3511488 & 0.1582350, 0.3750983 & 0.1374624, 0.3958710 & 0.09686345, 0.43646988 & 0.18218453 & 0.35114881 & 0.15823501 & 0.3750983 & 0.13746238 & 0.3958710 & 0.096863454 & 0.43646988\\\\\n\tHBO2 & 12737 & 12726 &  95 & 21 & 116 & 0.9991364 & 0.1352181, 0.2268508 & 0.1222298, 0.2398391 & 0.1109644, 0.2511046 & 0.0889468, 0.2731222 & 0.13521813 & 0.22685084 & 0.12222983 & 0.2398391 & 0.11096441 & 0.2511046 & 0.088946800 & 0.27312217\\\\\n\\end{tabular}\n",
            "text/plain": [
              "         T0    T1    c0  c1 c   r         IC_alpha_0.2          \n",
              "BNT162b2 17511 17411 162  8 170 0.9942893 0.02624436, 0.06787329\n",
              "ChAdOx1   2025  2063  33 12  45 1.0187654 0.1821845, 0.3511488  \n",
              "HBO2     12737 12726  95 21 116 0.9991364 0.1352181, 0.2268508  \n",
              "         IC_alpha_0.1           IC_alpha_0.05          IC_alpha_0.01           \n",
              "BNT162b2 0.02034375, 0.07377390 0.01522585, 0.07889180 0.005223205, 0.088894442\n",
              "ChAdOx1  0.1582350, 0.3750983   0.1374624, 0.3958710   0.09686345, 0.43646988  \n",
              "HBO2     0.1222298, 0.2398391   0.1109644, 0.2511046   0.0889468, 0.2731222    \n",
              "         IC_alpha_0.2_Lower IC_alpha_0.2_Upper IC_alpha_0.1_Lower\n",
              "BNT162b2 0.02624436         0.06787329         0.02034375        \n",
              "ChAdOx1  0.18218453         0.35114881         0.15823501        \n",
              "HBO2     0.13521813         0.22685084         0.12222983        \n",
              "         IC_alpha_0.1_Upper IC_alpha_0.05_Lower IC_alpha_0.05_Upper\n",
              "BNT162b2 0.0737739          0.01522585          0.0788918          \n",
              "ChAdOx1  0.3750983          0.13746238          0.3958710          \n",
              "HBO2     0.2398391          0.11096441          0.2511046          \n",
              "         IC_alpha_0.01_Lower IC_alpha_0.01_Upper\n",
              "BNT162b2 0.005223205         0.08889444         \n",
              "ChAdOx1  0.096863454         0.43646988         \n",
              "HBO2     0.088946800         0.27312217         "
            ]
          },
          "metadata": {}
        }
      ]
    },
    {
      "cell_type": "markdown",
      "metadata": {
        "cell_id": "9bbb4bc1acda46b1beab19219f7c05dd",
        "deepnote_cell_type": "markdown",
        "id": "-Ye0LoivYiVm"
      },
      "source": [
        "**2.2 Con el cálculo de la parte anterior, encuentre una estimación para la efectividad (VE) de las tres vacunas junto con sus intervalos de confianza $(1-\\alpha)$% para $\\alpha \\in \\{ 0.2, 0.1, 0.05, 0.01\\}$. Realice un gráfico para cada vacuna, en estos gráficos incluya el cálculo de su intervalo de confianza, para ello utilice la función más abajo.**"
      ]
    },
    {
      "cell_type": "code",
      "source": [
        "# Función para transformar las cotas superior e inferior del intervalo de confianza\n",
        "# Le puede ser de utilidad, sin embargo no es necesario utilizarla.\n",
        "# Recuerde calcular el factor r, por defecto la función lo dejará como r=1, pero usted debe\n",
        "# calcularlo de acuerdo a los datos y según la definición de r al comienzo.\n",
        "\n",
        "transform <- function(x, r=1) {\n",
        "    1 - x/(r*(1-x))\n",
        "}\n",
        "\n",
        "#se guarda la info de la estimación de efectividad VE en el mismo dataframe\n",
        "for (alpha in alphas) {\n",
        "  #Lower_VE: cota inferior del IC para la efectividad (VE)\n",
        "  VaccineData[[paste0('VE_', alpha, '_Lower')]] <- sapply(1:nrow(VaccineData), function(i) {\n",
        "    # pi_lower <- VaccineData[[paste0('alpha_', alpha)]][[i]][1] #caso A)\n",
        "    pi_lower <- VaccineData[[paste0('IC_alpha_', alpha, '_Lower')]][i] #caso B)\n",
        "    r <-  VaccineData$r[i]\n",
        "    transform(pi_lower, r) #se transforma la cota inferior del IC para obtener VE\n",
        "  })\n",
        "\n",
        "  #Upper_VE: cota superior del IC para la efectividad (VE)\n",
        "  VaccineData[[paste0('VE_', alpha, '_Upper')]] <- sapply(1:nrow(VaccineData), function(i) {\n",
        "    # pi_upper <- VaccineData[[paste0('alpha_', alpha)]][[i]][2] #caso A)\n",
        "    pi_upper <- VaccineData[[paste0('IC_alpha_', alpha, '_Upper')]][i] #caso B)\n",
        "    r <-  VaccineData$r[i]\n",
        "    transform(pi_upper, r) #se transforma la cota superior del IC para obtener VE\n",
        "  })\n",
        "\n",
        "  #Means_VE: estimación del parámetro como el promedio c1/c\n",
        "  VaccineData[[paste0('VE_', alpha, '_Mean')]] <- sapply(1:nrow(VaccineData), function(i) {\n",
        "    div <- VaccineData$c1[i] / VaccineData$c[i]\n",
        "    r <- VaccineData$r[i]\n",
        "    transform(div, r)\n",
        "  })\n",
        "}\n",
        "\n",
        "VaccineData"
      ],
      "metadata": {
        "colab": {
          "base_uri": "https://localhost:8080/",
          "height": 264
        },
        "id": "YWviubqurhVd",
        "outputId": "65e7b5b6-5dc3-4dad-ab21-3ba25de9663f"
      },
      "execution_count": null,
      "outputs": [
        {
          "output_type": "display_data",
          "data": {
            "text/html": [
              "<table class=\"dataframe\">\n",
              "<caption>A data.frame: 3 × 30</caption>\n",
              "<thead>\n",
              "\t<tr><th></th><th scope=col>T0</th><th scope=col>T1</th><th scope=col>c0</th><th scope=col>c1</th><th scope=col>c</th><th scope=col>r</th><th scope=col>IC_alpha_0.2</th><th scope=col>IC_alpha_0.1</th><th scope=col>IC_alpha_0.05</th><th scope=col>IC_alpha_0.01</th><th scope=col>⋯</th><th scope=col>VE_0.2_Mean</th><th scope=col>VE_0.1_Lower</th><th scope=col>VE_0.1_Upper</th><th scope=col>VE_0.1_Mean</th><th scope=col>VE_0.05_Lower</th><th scope=col>VE_0.05_Upper</th><th scope=col>VE_0.05_Mean</th><th scope=col>VE_0.01_Lower</th><th scope=col>VE_0.01_Upper</th><th scope=col>VE_0.01_Mean</th></tr>\n",
              "\t<tr><th></th><th scope=col>&lt;dbl&gt;</th><th scope=col>&lt;dbl&gt;</th><th scope=col>&lt;dbl&gt;</th><th scope=col>&lt;dbl&gt;</th><th scope=col>&lt;dbl&gt;</th><th scope=col>&lt;dbl&gt;</th><th scope=col>&lt;list&gt;</th><th scope=col>&lt;list&gt;</th><th scope=col>&lt;list&gt;</th><th scope=col>&lt;list&gt;</th><th scope=col>⋯</th><th scope=col>&lt;dbl&gt;</th><th scope=col>&lt;dbl&gt;</th><th scope=col>&lt;dbl&gt;</th><th scope=col>&lt;dbl&gt;</th><th scope=col>&lt;dbl&gt;</th><th scope=col>&lt;dbl&gt;</th><th scope=col>&lt;dbl&gt;</th><th scope=col>&lt;dbl&gt;</th><th scope=col>&lt;dbl&gt;</th><th scope=col>&lt;dbl&gt;</th></tr>\n",
              "</thead>\n",
              "<tbody>\n",
              "\t<tr><th scope=row>BNT162b2</th><td>17511</td><td>17411</td><td>162</td><td> 8</td><td>170</td><td>0.9942893</td><td>0.02624436, 0.06787329</td><td>0.02034375, 0.07377390</td><td>0.01522585, 0.07889180</td><td>0.005223205, 0.088894442</td><td>⋯</td><td>0.9503337</td><td>0.9791145</td><td>0.9198925</td><td>0.9503337</td><td>0.9844499</td><td>0.9138593</td><td>0.9503337</td><td>0.9947192</td><td>0.9018720</td><td>0.9503337</td></tr>\n",
              "\t<tr><th scope=row>ChAdOx1</th><td> 2025</td><td> 2063</td><td> 33</td><td>12</td><td> 45</td><td>1.0187654</td><td>0.1821845, 0.3511488</td><td>0.1582350, 0.3750983</td><td>0.1374624, 0.3958710</td><td>0.09686345, 0.43646988</td><td>⋯</td><td>0.6430617</td><td>0.8154825</td><td>0.4108048</td><td>0.6430617</td><td>0.8435658</td><td>0.3567946</td><td>0.6430617</td><td>0.8947233</td><td>0.2397386</td><td>0.6430617</td></tr>\n",
              "\t<tr><th scope=row>HBO2</th><td>12737</td><td>12726</td><td> 95</td><td>21</td><td>116</td><td>0.9991364</td><td>0.1352181, 0.2268508</td><td>0.1222298, 0.2398391</td><td>0.1109644, 0.2511046</td><td>0.0889468, 0.2731222</td><td>⋯</td><td>0.7787563</td><td>0.8606293</td><td>0.6842162</td><td>0.7787563</td><td>0.8750777</td><td>0.6644103</td><td>0.7787563</td><td>0.9022849</td><td>0.6239282</td><td>0.7787563</td></tr>\n",
              "</tbody>\n",
              "</table>\n"
            ],
            "text/markdown": "\nA data.frame: 3 × 30\n\n| <!--/--> | T0 &lt;dbl&gt; | T1 &lt;dbl&gt; | c0 &lt;dbl&gt; | c1 &lt;dbl&gt; | c &lt;dbl&gt; | r &lt;dbl&gt; | IC_alpha_0.2 &lt;list&gt; | IC_alpha_0.1 &lt;list&gt; | IC_alpha_0.05 &lt;list&gt; | IC_alpha_0.01 &lt;list&gt; | ⋯ ⋯ | VE_0.2_Mean &lt;dbl&gt; | VE_0.1_Lower &lt;dbl&gt; | VE_0.1_Upper &lt;dbl&gt; | VE_0.1_Mean &lt;dbl&gt; | VE_0.05_Lower &lt;dbl&gt; | VE_0.05_Upper &lt;dbl&gt; | VE_0.05_Mean &lt;dbl&gt; | VE_0.01_Lower &lt;dbl&gt; | VE_0.01_Upper &lt;dbl&gt; | VE_0.01_Mean &lt;dbl&gt; |\n|---|---|---|---|---|---|---|---|---|---|---|---|---|---|---|---|---|---|---|---|---|---|\n| BNT162b2 | 17511 | 17411 | 162 |  8 | 170 | 0.9942893 | 0.02624436, 0.06787329 | 0.02034375, 0.07377390 | 0.01522585, 0.07889180 | 0.005223205, 0.088894442 | ⋯ | 0.9503337 | 0.9791145 | 0.9198925 | 0.9503337 | 0.9844499 | 0.9138593 | 0.9503337 | 0.9947192 | 0.9018720 | 0.9503337 |\n| ChAdOx1 |  2025 |  2063 |  33 | 12 |  45 | 1.0187654 | 0.1821845, 0.3511488 | 0.1582350, 0.3750983 | 0.1374624, 0.3958710 | 0.09686345, 0.43646988 | ⋯ | 0.6430617 | 0.8154825 | 0.4108048 | 0.6430617 | 0.8435658 | 0.3567946 | 0.6430617 | 0.8947233 | 0.2397386 | 0.6430617 |\n| HBO2 | 12737 | 12726 |  95 | 21 | 116 | 0.9991364 | 0.1352181, 0.2268508 | 0.1222298, 0.2398391 | 0.1109644, 0.2511046 | 0.0889468, 0.2731222 | ⋯ | 0.7787563 | 0.8606293 | 0.6842162 | 0.7787563 | 0.8750777 | 0.6644103 | 0.7787563 | 0.9022849 | 0.6239282 | 0.7787563 |\n\n",
            "text/latex": "A data.frame: 3 × 30\n\\begin{tabular}{r|lllllllllllllllllllll}\n  & T0 & T1 & c0 & c1 & c & r & IC\\_alpha\\_0.2 & IC\\_alpha\\_0.1 & IC\\_alpha\\_0.05 & IC\\_alpha\\_0.01 & ⋯ & VE\\_0.2\\_Mean & VE\\_0.1\\_Lower & VE\\_0.1\\_Upper & VE\\_0.1\\_Mean & VE\\_0.05\\_Lower & VE\\_0.05\\_Upper & VE\\_0.05\\_Mean & VE\\_0.01\\_Lower & VE\\_0.01\\_Upper & VE\\_0.01\\_Mean\\\\\n  & <dbl> & <dbl> & <dbl> & <dbl> & <dbl> & <dbl> & <list> & <list> & <list> & <list> & ⋯ & <dbl> & <dbl> & <dbl> & <dbl> & <dbl> & <dbl> & <dbl> & <dbl> & <dbl> & <dbl>\\\\\n\\hline\n\tBNT162b2 & 17511 & 17411 & 162 &  8 & 170 & 0.9942893 & 0.02624436, 0.06787329 & 0.02034375, 0.07377390 & 0.01522585, 0.07889180 & 0.005223205, 0.088894442 & ⋯ & 0.9503337 & 0.9791145 & 0.9198925 & 0.9503337 & 0.9844499 & 0.9138593 & 0.9503337 & 0.9947192 & 0.9018720 & 0.9503337\\\\\n\tChAdOx1 &  2025 &  2063 &  33 & 12 &  45 & 1.0187654 & 0.1821845, 0.3511488 & 0.1582350, 0.3750983 & 0.1374624, 0.3958710 & 0.09686345, 0.43646988 & ⋯ & 0.6430617 & 0.8154825 & 0.4108048 & 0.6430617 & 0.8435658 & 0.3567946 & 0.6430617 & 0.8947233 & 0.2397386 & 0.6430617\\\\\n\tHBO2 & 12737 & 12726 &  95 & 21 & 116 & 0.9991364 & 0.1352181, 0.2268508 & 0.1222298, 0.2398391 & 0.1109644, 0.2511046 & 0.0889468, 0.2731222 & ⋯ & 0.7787563 & 0.8606293 & 0.6842162 & 0.7787563 & 0.8750777 & 0.6644103 & 0.7787563 & 0.9022849 & 0.6239282 & 0.7787563\\\\\n\\end{tabular}\n",
            "text/plain": [
              "         T0    T1    c0  c1 c   r         IC_alpha_0.2          \n",
              "BNT162b2 17511 17411 162  8 170 0.9942893 0.02624436, 0.06787329\n",
              "ChAdOx1   2025  2063  33 12  45 1.0187654 0.1821845, 0.3511488  \n",
              "HBO2     12737 12726  95 21 116 0.9991364 0.1352181, 0.2268508  \n",
              "         IC_alpha_0.1           IC_alpha_0.05          IC_alpha_0.01           \n",
              "BNT162b2 0.02034375, 0.07377390 0.01522585, 0.07889180 0.005223205, 0.088894442\n",
              "ChAdOx1  0.1582350, 0.3750983   0.1374624, 0.3958710   0.09686345, 0.43646988  \n",
              "HBO2     0.1222298, 0.2398391   0.1109644, 0.2511046   0.0889468, 0.2731222    \n",
              "         ⋯ VE_0.2_Mean VE_0.1_Lower VE_0.1_Upper VE_0.1_Mean VE_0.05_Lower\n",
              "BNT162b2 ⋯ 0.9503337   0.9791145    0.9198925    0.9503337   0.9844499    \n",
              "ChAdOx1  ⋯ 0.6430617   0.8154825    0.4108048    0.6430617   0.8435658    \n",
              "HBO2     ⋯ 0.7787563   0.8606293    0.6842162    0.7787563   0.8750777    \n",
              "         VE_0.05_Upper VE_0.05_Mean VE_0.01_Lower VE_0.01_Upper VE_0.01_Mean\n",
              "BNT162b2 0.9138593     0.9503337    0.9947192     0.9018720     0.9503337   \n",
              "ChAdOx1  0.3567946     0.6430617    0.8947233     0.2397386     0.6430617   \n",
              "HBO2     0.6644103     0.7787563    0.9022849     0.6239282     0.7787563   "
            ]
          },
          "metadata": {}
        }
      ]
    },
    {
      "cell_type": "code",
      "metadata": {
        "source_hash": null,
        "execution_start": 1696120822420,
        "execution_millis": 17,
        "deepnote_to_be_reexecuted": false,
        "cell_id": "dd0e27f2dbe743ac91a3c8a19f8ab2a6",
        "deepnote_cell_type": "code",
        "id": "9J6AjsbqYiVn",
        "colab": {
          "base_uri": "https://localhost:8080/",
          "height": 1000
        },
        "outputId": "23c6ab41-041f-495f-f31e-b97cc1f893cd"
      },
      "source": [
        "# df: DataFrame con columnas Means_VE, Upper_VE, Lower_VE\n",
        "# Means_VE: Estimación del parámetro como el promedio c1/c\n",
        "# Upper_VE: Cota superior del IC para la efectividad (VE)\n",
        "# Lower_VE: Cota inferior del IC para la efectividad (VE)\n",
        "# alphas: Alphas utilizados para calcular los intervalo de confianza 1-alpha\n",
        "\n",
        "# Esta función genera un gráfico de la estimación del parámetro junto con\n",
        "# el intervalo de confianza en forma de barras de error\n",
        "\n",
        "plot.ic.p2 <- function(df, Means_VE, Upper_VE, Lower_VE, alphas=c(0.2, 0.1, 0.05, 0.01), l) {\n",
        "    ggplot(data=df, aes(x=1:nrow(df))) +\n",
        "                geom_errorbar(aes(ymax = Upper_VE, ymin = Lower_VE)) +\n",
        "                geom_point(aes(y=Means_VE), shape=1, size=3) +\n",
        "                ylab(TeX(\"Efectividad (1-$\\\\alpha$) IC\")) +\n",
        "                xlab(TeX(\"1-$\\\\alpha$\")) +\n",
        "                scale_x_continuous(breaks=seq(1,4,1),labels=1-alphas) +\n",
        "                ggtitle(paste(TeX(\"Efectividad con IC para distintos $\\\\alpha$ para la vacuna\"),vaccines[l])) +\n",
        "                theme(plot.title = element_text(hjust = 0.5))\n",
        "}\n",
        "\n",
        "for (i in 1:nrow(VaccineData)) {\n",
        "  df <- data.frame(\n",
        "    Means_VE = unlist(VaccineData[i, paste0('VE_', alphas, '_Mean')]),\n",
        "    Upper_VE = unlist(VaccineData[i, paste0('VE_', alphas, '_Upper')]),\n",
        "    Lower_VE = unlist(VaccineData[i, paste0('VE_', alphas, '_Lower')])\n",
        "  )\n",
        "  df$alpha_label <- factor(1:length(alphas), labels = 1 - alphas)\n",
        "  plot <- plot.ic.p2(df, Means_VE = df$Means_VE, Upper_VE = df$Upper_VE, Lower_VE = df$Lower_VE,c(0.2, 0.1, 0.05, 0.01), i)\n",
        "  print(plot)\n",
        "}"
      ],
      "execution_count": null,
      "outputs": [
        {
          "output_type": "display_data",
          "data": {
            "text/plain": [
              "plot without title"
            ],
            "image/png": "[encoded data removed]"
          },
          "metadata": {
            "image/png": {
              "width": 420,
              "height": 420
            }
          }
        },
        {
          "output_type": "display_data",
          "data": {
            "text/plain": [
              "plot without title"
            ],
            "image/png": "[encoded data removed]"
          },
          "metadata": {
            "image/png": {
              "width": 420,
              "height": 420
            }
          }
        },
        {
          "output_type": "display_data",
          "data": {
            "text/plain": [
              "plot without title"
            ],
            "image/png": "[encoded data removed]"
          },
          "metadata": {
            "image/png": {
              "width": 420,
              "height": 420
            }
          }
        }
      ]
    },
    {
      "cell_type": "markdown",
      "metadata": {
        "cell_id": "fb92f189056346b39feb89daded9ed5a",
        "deepnote_cell_type": "markdown",
        "id": "l8CBUjacYiVo"
      },
      "source": [
        "**2.3 Comente sus resultados y responda ¿qué es lo que observa cuando disminuye $\\alpha$?**"
      ]
    },
    {
      "cell_type": "markdown",
      "metadata": {
        "cell_id": "38312b1498f043779574a197e8192e9a",
        "deepnote_cell_type": "markdown",
        "id": "2JM8Vn6tYiVo"
      },
      "source": [
        "**Solución:**\n",
        "La tendencia de los gráficos dice que en la medida que $\\alpha \\in (0,1)$ disminuye, vale decir, que $1-\\alpha$ aumenta, la precisión con la que se puede indicar la efectividad va disminuyendo pues los intervalos pasan a ser más grandes."
      ]
    },
    {
      "cell_type": "markdown",
      "metadata": {
        "cell_id": "aebbf08963c940d1b82dfd6999bf035f",
        "deepnote_cell_type": "markdown",
        "id": "wA12dxMXYiVo"
      },
      "source": [
        "### 3. Intervalo de confianza $95\\%$ con distintos métodos"
      ]
    },
    {
      "cell_type": "markdown",
      "metadata": {
        "cell_id": "b15efc60240041168e59ac624b654bfc",
        "deepnote_cell_type": "markdown",
        "id": "40sRn2kgYiVo"
      },
      "source": [
        "En contexto clínico se suelen presentar los resultados de la estimación de algún parámetro en conjunto con el intervalo de confianza del $95\\%$. El objetivo de esta parte es poder entregar un intervalo de dicha confianza con distintos métodos existentes en la literatura, a pesar de que no los estudiaremos en el curso más allá de esta tarea. Gran parte de lo que sigue se basará en utilizar la función **binconf** de **Hmisc**, ya instalada al principio. La lista de métodos es la siguiente:\n",
        "\n",
        "* **Método 1:** Método asintótico de la parte anterior.\n",
        "* **Método 2:** Método exacto con distribución F de Fisher.\n",
        "* **Método 3:** Método de Wilson."
      ]
    },
    {
      "cell_type": "markdown",
      "metadata": {
        "cell_id": "21a4c9e045694b35910af57e9c765a9a",
        "deepnote_cell_type": "markdown",
        "id": "Gv6i9FuLYiVo"
      },
      "source": [
        "**3.1 Con la función binconf obtenga, numéricamente, los intervalos de confianza de 95% para la efectividad de las 3 vacunas, utilizando el método 2 (exacto) y el método 3 (Wilson). Utilice la función entregada abajo para graficar.**\n",
        "\n",
        "*Hint 1: Siga un procedimiento similar al de la sección anterior, es decir, calcule el intervalo de confianza para $\\pi$ y luego con lo entregado en la sección 1 calcule los intervalos de confianza para la efectividad.*\n",
        "\n",
        "*Hint 2: Busque la función **binconf** en internet y descubra como cambiar el método de cálculo del intervalo.*"
      ]
    },
    {
      "cell_type": "markdown",
      "source": [
        "Ya que se requiere usar el dataframe con los datos del estudio, se va a volver a instatar."
      ],
      "metadata": {
        "id": "uiMuLuPa8t2o"
      }
    },
    {
      "cell_type": "code",
      "source": [
        "vaccines <- c('BNT162b2', 'ChAdOx1', 'HBO2')\n",
        "nPlacebo <- c(17511, 2025, 12737)\n",
        "nVaccine <- c(17411, 2063, 12726)\n",
        "nPlaceboCases <- c(162, 33, 95)\n",
        "nVaccineCases <- c(8, 12, 21)\n",
        "\n",
        "#se agregan nombres a las columnas para identificar mejor la información según el contexto del enunciado\n",
        "VaccineData <- data.frame('T0'=nPlacebo, 'T1'=nVaccine, 'c0'=nPlaceboCases, 'c1'=nVaccineCases, row.names = vaccines)\n",
        "VaccineData$c <- VaccineData$c0 + VaccineData$c1 #se agrega columna con los nCases en total (c = c1+c2) i.e. total de infectados (placebo+vacunados)\n",
        "VaccineData$r <- VaccineData$T1 / VaccineData$T0 #se agrega columna con factor r=T1/T0\n",
        "\n",
        "VaccineData"
      ],
      "metadata": {
        "colab": {
          "base_uri": "https://localhost:8080/",
          "height": 192
        },
        "id": "lsTAUnPy8ukn",
        "outputId": "63326ccd-e192-4da4-e532-24b40f71f899"
      },
      "execution_count": null,
      "outputs": [
        {
          "output_type": "display_data",
          "data": {
            "text/html": [
              "<table class=\"dataframe\">\n",
              "<caption>A data.frame: 3 × 6</caption>\n",
              "<thead>\n",
              "\t<tr><th></th><th scope=col>T0</th><th scope=col>T1</th><th scope=col>c0</th><th scope=col>c1</th><th scope=col>c</th><th scope=col>r</th></tr>\n",
              "\t<tr><th></th><th scope=col>&lt;dbl&gt;</th><th scope=col>&lt;dbl&gt;</th><th scope=col>&lt;dbl&gt;</th><th scope=col>&lt;dbl&gt;</th><th scope=col>&lt;dbl&gt;</th><th scope=col>&lt;dbl&gt;</th></tr>\n",
              "</thead>\n",
              "<tbody>\n",
              "\t<tr><th scope=row>BNT162b2</th><td>17511</td><td>17411</td><td>162</td><td> 8</td><td>170</td><td>0.9942893</td></tr>\n",
              "\t<tr><th scope=row>ChAdOx1</th><td> 2025</td><td> 2063</td><td> 33</td><td>12</td><td> 45</td><td>1.0187654</td></tr>\n",
              "\t<tr><th scope=row>HBO2</th><td>12737</td><td>12726</td><td> 95</td><td>21</td><td>116</td><td>0.9991364</td></tr>\n",
              "</tbody>\n",
              "</table>\n"
            ],
            "text/markdown": "\nA data.frame: 3 × 6\n\n| <!--/--> | T0 &lt;dbl&gt; | T1 &lt;dbl&gt; | c0 &lt;dbl&gt; | c1 &lt;dbl&gt; | c &lt;dbl&gt; | r &lt;dbl&gt; |\n|---|---|---|---|---|---|---|\n| BNT162b2 | 17511 | 17411 | 162 |  8 | 170 | 0.9942893 |\n| ChAdOx1 |  2025 |  2063 |  33 | 12 |  45 | 1.0187654 |\n| HBO2 | 12737 | 12726 |  95 | 21 | 116 | 0.9991364 |\n\n",
            "text/latex": "A data.frame: 3 × 6\n\\begin{tabular}{r|llllll}\n  & T0 & T1 & c0 & c1 & c & r\\\\\n  & <dbl> & <dbl> & <dbl> & <dbl> & <dbl> & <dbl>\\\\\n\\hline\n\tBNT162b2 & 17511 & 17411 & 162 &  8 & 170 & 0.9942893\\\\\n\tChAdOx1 &  2025 &  2063 &  33 & 12 &  45 & 1.0187654\\\\\n\tHBO2 & 12737 & 12726 &  95 & 21 & 116 & 0.9991364\\\\\n\\end{tabular}\n",
            "text/plain": [
              "         T0    T1    c0  c1 c   r        \n",
              "BNT162b2 17511 17411 162  8 170 0.9942893\n",
              "ChAdOx1   2025  2063  33 12  45 1.0187654\n",
              "HBO2     12737 12726  95 21 116 0.9991364"
            ]
          },
          "metadata": {}
        }
      ]
    },
    {
      "cell_type": "markdown",
      "source": [
        "Siguiendo las indicaciones:\n",
        "\n",
        "* Se seguirá un procedimiento análogo al anterior.\n",
        "* La función ```bincof```(https://rdrr.io/cran/Hmisc/man/binconf.html) (Confidence Intervals for Binomial Probabilities), esta justamente produce intervalos de confianza $1-\\alpha$ para probabilidades binomiales y recibe como argumentos, respectivamente: ```x``` vector con las realizaciones de variables aleatorias binomiales, ```n``` vector que indica la cantidad de observaciones, parámetro ```alpha``` que es el error que se quiere controlar, y el método (que en este caso puede ser ```'exact'``` o ```'wilson'```). Devuelve un dataframe con los valores calculados, donde la columna 2 y 3 son, respectivamente, lower y upper.\n",
        "\n",
        "En este caso como se quiere $95\\%$ de confianza, se requiere $\\alpha = 0.05$."
      ],
      "metadata": {
        "id": "DSRgU43Dz3vH"
      }
    },
    {
      "cell_type": "code",
      "metadata": {
        "source_hash": null,
        "execution_start": 1696120822427,
        "execution_millis": 20,
        "deepnote_to_be_reexecuted": false,
        "cell_id": "5be329a3d8fa44c8be10200d17d75f0c",
        "deepnote_cell_type": "code",
        "id": "G6ahSlstYiVp",
        "colab": {
          "base_uri": "https://localhost:8080/",
          "height": 192
        },
        "outputId": "e3f0cc1e-a2cf-4053-ffb9-9436a80bd5ff"
      },
      "source": [
        "vaccines <- c('BNT162b2', 'ChAdOx1', 'HBO2') # Vacunas\n",
        "\n",
        "#calc_VE_IC: vector, vector, float, float\n",
        "#dadas realizaciones de variables aleatorias, la cantidad de observaciones, y error a controlar\n",
        "#(y parametro ratio), se calculan intervalos de confianza con binconf\n",
        "calc_VE_IC <- function(nVaccineCases, nTotalCases, alpha, r) {\n",
        "  #se generan intervalos de confianza con binconf\n",
        "  IC_pi_exact <- binconf(x=nVaccineCases, n=nTotalCases, alpha=alpha, method='exact')\n",
        "  IC_pi_wilson <- binconf(x=nVaccineCases, n=nTotalCases, alpha=alpha, method='wilson')\n",
        "\n",
        "  #se transforman los intervalos a la forma VE\n",
        "  VE_exact_lower <- transform(IC_pi_exact[2], r = r)\n",
        "  VE_exact_upper <- transform(IC_pi_exact[3], r = r)\n",
        "  VE_wilson_lower <- transform(IC_pi_wilson[2], r = r)\n",
        "  VE_wilson_upper <- transform(IC_pi_wilson[3], r = r)\n",
        "\n",
        "  #se crea data frame con los resultados\n",
        "  div <- nVaccineCases / nTotalCases #means se construye con la estimacion c1/c\n",
        "  data.frame('Means_VE'= 1 - div/(r*(1 - div)), 'Lower_VE_Exact'=VE_exact_lower, 'Upper_VE_Exact'= VE_exact_upper, 'Lower_VE_Wilson'=VE_wilson_lower, 'Upper_VE_Wilson'=VE_wilson_upper)\n",
        "}\n",
        "\n",
        "#se calculan los intervalos de confianza para cada vacuna\n",
        "alpha <- 0.05  #se setea el nivel de confianza\n",
        "for (i in 1:nrow(VaccineData)) { #para cada vacuna\n",
        "  nVaccineCases <- VaccineData$c1[i] #se accede a la info de la vacuna en la columna c1\n",
        "  nTotalCases <- VaccineData$c[i] #se accede a la info de la vacuna en la columna c\n",
        "  r <- VaccineData$r[i] #se accede al parámetro r en la columna r\n",
        "\n",
        "  #se añaden al data frame\n",
        "  VaccineData[i, c('Means_VE', 'Lower_VE_Exact', 'Upper_VE_Exact', 'Lower_VE_Wilson', 'Upper_VE_Wilson')] <- calc_VE_IC(nVaccineCases, nTotalCases, alpha, r)\n",
        "}\n",
        "\n",
        "VaccineData"
      ],
      "execution_count": null,
      "outputs": [
        {
          "output_type": "display_data",
          "data": {
            "text/html": [
              "<table class=\"dataframe\">\n",
              "<caption>A data.frame: 3 × 11</caption>\n",
              "<thead>\n",
              "\t<tr><th></th><th scope=col>T0</th><th scope=col>T1</th><th scope=col>c0</th><th scope=col>c1</th><th scope=col>c</th><th scope=col>r</th><th scope=col>Means_VE</th><th scope=col>Lower_VE_Exact</th><th scope=col>Upper_VE_Exact</th><th scope=col>Lower_VE_Wilson</th><th scope=col>Upper_VE_Wilson</th></tr>\n",
              "\t<tr><th></th><th scope=col>&lt;dbl&gt;</th><th scope=col>&lt;dbl&gt;</th><th scope=col>&lt;dbl&gt;</th><th scope=col>&lt;dbl&gt;</th><th scope=col>&lt;dbl&gt;</th><th scope=col>&lt;dbl&gt;</th><th scope=col>&lt;dbl&gt;</th><th scope=col>&lt;dbl&gt;</th><th scope=col>&lt;dbl&gt;</th><th scope=col>&lt;dbl&gt;</th><th scope=col>&lt;dbl&gt;</th></tr>\n",
              "</thead>\n",
              "<tbody>\n",
              "\t<tr><th scope=row>BNT162b2</th><td>17511</td><td>17411</td><td>162</td><td> 8</td><td>170</td><td>0.9942893</td><td>0.9503337</td><td>0.9789164</td><td>0.8997814</td><td>0.9752311</td><td>0.9004096</td></tr>\n",
              "\t<tr><th scope=row>ChAdOx1</th><td> 2025</td><td> 2063</td><td> 33</td><td>12</td><td> 45</td><td>1.0187654</td><td>0.6430617</td><td>0.8321341</td><td>0.2908134</td><td>0.8135204</td><td>0.3167891</td></tr>\n",
              "\t<tr><th scope=row>HBO2</th><td>12737</td><td>12726</td><td> 95</td><td>21</td><td>116</td><td>0.9991364</td><td>0.7787563</td><td>0.8690533</td><td>0.6422517</td><td>0.8614899</td><td>0.6466050</td></tr>\n",
              "</tbody>\n",
              "</table>\n"
            ],
            "text/markdown": "\nA data.frame: 3 × 11\n\n| <!--/--> | T0 &lt;dbl&gt; | T1 &lt;dbl&gt; | c0 &lt;dbl&gt; | c1 &lt;dbl&gt; | c &lt;dbl&gt; | r &lt;dbl&gt; | Means_VE &lt;dbl&gt; | Lower_VE_Exact &lt;dbl&gt; | Upper_VE_Exact &lt;dbl&gt; | Lower_VE_Wilson &lt;dbl&gt; | Upper_VE_Wilson &lt;dbl&gt; |\n|---|---|---|---|---|---|---|---|---|---|---|---|\n| BNT162b2 | 17511 | 17411 | 162 |  8 | 170 | 0.9942893 | 0.9503337 | 0.9789164 | 0.8997814 | 0.9752311 | 0.9004096 |\n| ChAdOx1 |  2025 |  2063 |  33 | 12 |  45 | 1.0187654 | 0.6430617 | 0.8321341 | 0.2908134 | 0.8135204 | 0.3167891 |\n| HBO2 | 12737 | 12726 |  95 | 21 | 116 | 0.9991364 | 0.7787563 | 0.8690533 | 0.6422517 | 0.8614899 | 0.6466050 |\n\n",
            "text/latex": "A data.frame: 3 × 11\n\\begin{tabular}{r|lllllllllll}\n  & T0 & T1 & c0 & c1 & c & r & Means\\_VE & Lower\\_VE\\_Exact & Upper\\_VE\\_Exact & Lower\\_VE\\_Wilson & Upper\\_VE\\_Wilson\\\\\n  & <dbl> & <dbl> & <dbl> & <dbl> & <dbl> & <dbl> & <dbl> & <dbl> & <dbl> & <dbl> & <dbl>\\\\\n\\hline\n\tBNT162b2 & 17511 & 17411 & 162 &  8 & 170 & 0.9942893 & 0.9503337 & 0.9789164 & 0.8997814 & 0.9752311 & 0.9004096\\\\\n\tChAdOx1 &  2025 &  2063 &  33 & 12 &  45 & 1.0187654 & 0.6430617 & 0.8321341 & 0.2908134 & 0.8135204 & 0.3167891\\\\\n\tHBO2 & 12737 & 12726 &  95 & 21 & 116 & 0.9991364 & 0.7787563 & 0.8690533 & 0.6422517 & 0.8614899 & 0.6466050\\\\\n\\end{tabular}\n",
            "text/plain": [
              "         T0    T1    c0  c1 c   r         Means_VE  Lower_VE_Exact\n",
              "BNT162b2 17511 17411 162  8 170 0.9942893 0.9503337 0.9789164     \n",
              "ChAdOx1   2025  2063  33 12  45 1.0187654 0.6430617 0.8321341     \n",
              "HBO2     12737 12726  95 21 116 0.9991364 0.7787563 0.8690533     \n",
              "         Upper_VE_Exact Lower_VE_Wilson Upper_VE_Wilson\n",
              "BNT162b2 0.8997814      0.9752311       0.9004096      \n",
              "ChAdOx1  0.2908134      0.8135204       0.3167891      \n",
              "HBO2     0.6422517      0.8614899       0.6466050      "
            ]
          },
          "metadata": {}
        }
      ]
    },
    {
      "cell_type": "code",
      "source": [
        "# df: DataFrame con columnas Means_VE, Upper_VE, Lower_VE\n",
        "# Means_VE: Estimación del parámetro como el promedio c1/c\n",
        "# Upper_VE: Cota superior del IC para la efectividad (VE)\n",
        "# Lower_VE: Cota inferior del IC para la efectividad (VE)\n",
        "# vac_index: Índice de la vacuna en el arreglo vaccines,\n",
        "# 1:'BNT162b2', 2:'ChAdOx1', 3:'HBO2'\n",
        "# method: Un string que indique el método, en este caso puede ser\n",
        "# \"exacto\" o \"Wilson\".\n",
        "\n",
        "plot.ic.p3 <- function(df, Means_VE, Lower_VE, Upper_VE, vac_index, method) { #notar que el argumento\n",
        "    ggplot(data=df, aes(x=1:nrow(df))) +\n",
        "                geom_errorbar(aes(ymax = Upper_VE, ymin = Lower_VE)) +\n",
        "                # geom_point(aes(y=rowMeans(df)), shape=1, size=3) +\n",
        "                geom_point(aes(y=Means_VE), shape=1, size=3) + #se reemplaza por la línea anterior porque no graficaba correctamente\n",
        "                ylab(\"Efectividad (IC 95%)\") +\n",
        "                xlab(\"Vacuna\") +\n",
        "                # ggtitle(cat(\"Efectividad con IC 95% \",method)) +\n",
        "                ggtitle(paste0(\"Efectividad con IC 95% con método \",method)) + #se modificó estructura del gráfico por estética\n",
        "                theme(plot.title = element_text(hjust = 0.5)) +\n",
        "                scale_x_continuous(breaks=seq(1,3,1),labels=vaccines)\n",
        "}\n",
        "\n",
        "plot.ic.p3(df=VaccineData, Means_VE=VaccineData$Means_VE, Lower_VE=VaccineData$Lower_VE_Exact, Upper_VE=VaccineData$Upper_VE_Exact, vac_index=1, method='Exacto') #exact\n",
        "plot.ic.p3(df=VaccineData, Means_VE=VaccineData$Means_VE, Lower_VE=VaccineData$Lower_VE_Wilson, Upper_VE=VaccineData$Upper_VE_Wilson, vac_index=1, method='Wilson') #wilson"
      ],
      "metadata": {
        "colab": {
          "base_uri": "https://localhost:8080/",
          "height": 857
        },
        "id": "KwwltpAh86gv",
        "outputId": "d1e7014b-de98-4186-9525-cd74394dc4d2"
      },
      "execution_count": null,
      "outputs": [
        {
          "output_type": "display_data",
          "data": {
            "text/plain": [
              "plot without title"
            ],
            "image/png": "[encoded data removed]"
          },
          "metadata": {
            "image/png": {
              "width": 420,
              "height": 420
            }
          }
        },
        {
          "output_type": "display_data",
          "data": {
            "text/plain": [
              "plot without title"
            ],
            "image/png": "[encoded data removed]"
          },
          "metadata": {
            "image/png": {
              "width": 420,
              "height": 420
            }
          }
        }
      ]
    },
    {
      "cell_type": "markdown",
      "metadata": {
        "cell_id": "ef9982e09dd947128318c615b7b22d1d",
        "deepnote_cell_type": "markdown",
        "id": "VZgRGmcqYiVp"
      },
      "source": [
        "**3.2 El/la ministro/a de salud de turno acude a usted para pedirle urgentemente números acerca de las tres vacunas ya que buscan comprar dosis para la siguiente campaña de vacunación. Además de la efectividad, le pide que le entregue su correspondiente intervalo de confianza. ¿Qué vacuna elegiría y que método para calcular su intervalo de confianza del 95\\%?**\n",
        "\n",
        "*Nota: No hay una respuesta correcta a esto, es solo una pregunta de discusión. Lo importante son los argumentos que usted pueda entregar.*"
      ]
    },
    {
      "cell_type": "markdown",
      "metadata": {
        "cell_id": "a88bea9300b34bb39087b06f1d8f07f3",
        "deepnote_cell_type": "markdown",
        "id": "lqp0VfZBYiVp"
      },
      "source": [
        "**Solución:**\n",
        "Para hacer una elección adecuada sobre la vacuna, hay que considerar algunos aspectos como su efectividad, intervalo de confianza y el método con el cual calcular los parámetros anteriores. Respecto a la efectividad, se espera que una vacuna con mayor efectividad sea mejor para evitar los contagios. Sobre el intervalo de confianza, se quisiera que no fuese tan amplio para que así estén más localizados las posibles variaciones y la precisión sobre el parámetro de la efectividad sea más alta. En cuanto al método que elegir, el método asintótico requirió más modelamiento e implementación por detrás, mientras que el método de Wilson y Exacto venían implementados en librerías de R.\n",
        "\n",
        "En virtud de lo anterior, elegiría el método Exacto o de Wilson para que la implementación fuese más directa. Ya que entregaron resultados similares para los intervalos de confianza, considerando que la efectividad más alta es la obtenida con la vacuna BNT162b2 y que además su intervalo de confianza es más chico (mayor precisión), esa sería la vacuna a elegir."
      ]
    }
  ],
  "nbformat": 4,
  "nbformat_minor": 0,
  "metadata": {
    "deepnote_notebook_id": "886e0c0eb21c4eb98d9712608bfa7d2e",
    "deepnote_execution_queue": [],
    "colab": {
      "provenance": []
    },
    "language_info": {
      "name": "R"
    },
    "kernelspec": {
      "name": "ir",
      "display_name": "R"
    }
  }
}